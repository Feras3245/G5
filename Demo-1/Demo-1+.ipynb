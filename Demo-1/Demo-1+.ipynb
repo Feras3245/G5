{
 "cells": [
  {
   "cell_type": "markdown",
   "metadata": {},
   "source": [
    "# Demo-1+: Vergleich von Zeitreihen mit Liniendiagrammen "
   ]
  },
  {
   "cell_type": "markdown",
   "metadata": {},
   "source": [
    "## Importing Dependencies"
   ]
  },
  {
   "cell_type": "code",
   "execution_count": 12,
   "metadata": {},
   "outputs": [],
   "source": [
    "import pandas as pd\n",
    "import matplotlib.pyplot as plt\n",
    "import ipywidgets as wgts\n",
    "from IPython.display import display\n",
    "import numpy as np"
   ]
  },
  {
   "cell_type": "markdown",
   "metadata": {},
   "source": [
    "## Loading Datasets"
   ]
  },
  {
   "cell_type": "code",
   "execution_count": 13,
   "metadata": {},
   "outputs": [],
   "source": [
    "covid_19_dataset = pd.read_csv('cleaned_dataset.csv')\n",
    "regions_dataset = pd.read_csv('regions_dataset.csv')"
   ]
  },
  {
   "cell_type": "markdown",
   "metadata": {},
   "source": [
    "## Sample Plot"
   ]
  },
  {
   "cell_type": "code",
   "execution_count": 14,
   "metadata": {},
   "outputs": [],
   "source": [
    "# # Load dataset\n",
    "# df = pd.read_csv(\"cleaned_dataset.csv\")\n",
    "\n",
    "# # Convert Date column to datetime format\n",
    "# df['Date'] = pd.to_datetime(df['Date'])\n",
    "\n",
    "# # Choose a country (e.g., 'Mexico')\n",
    "# country = \"Mexico\"\n",
    "# df_country = df[df['Country'] == country].sort_values(by=\"Date\")\n",
    "\n",
    "# # Compute cumulative sum\n",
    "# df_country['Total Confirmed'] = df_country['Confirmed'].cumsum()\n",
    "# df_country['Total Recovered'] = df_country['Recovered'].cumsum()\n",
    "# df_country['Total Deaths'] = df_country['Deaths'].cumsum()\n",
    "\n",
    "# # Plot time series graph\n",
    "# plt.figure(figsize=(12, 6))\n",
    "# plt.plot(df_country['Date'], df_country['Total Confirmed'], label=\"Confirmed Cases\", color='blue')\n",
    "# plt.plot(df_country['Date'], df_country['Total Recovered'], label=\"Recovered Cases\", color='green')\n",
    "# plt.plot(df_country['Date'], df_country['Total Deaths'], label=\"Deaths\", color='red')\n",
    "\n",
    "# # Formatting the plot\n",
    "# plt.xlabel(\"Date\")\n",
    "# plt.ylabel(\"Cumulative Count\")\n",
    "# plt.title(f\"COVID-19 Time Series for {country}\")\n",
    "# plt.legend()\n",
    "# plt.xticks(rotation=45)\n",
    "# plt.grid(True)\n",
    "\n",
    "# # Show plot\n",
    "# # plt.show()"
   ]
  },
  {
   "cell_type": "markdown",
   "metadata": {},
   "source": [
    "## Plotting Functions"
   ]
  },
  {
   "cell_type": "markdown",
   "metadata": {},
   "source": [
    "### Country Based Time Series Plotting"
   ]
  },
  {
   "cell_type": "code",
   "execution_count": null,
   "metadata": {},
   "outputs": [],
   "source": [
    "def plot_country_timeseries(country: str, from_date: str, to_date: str):\n",
    "    \"\"\"\n",
    "    Plots a time series graph for a given country and date range.\n",
    "    \n",
    "    Parameters:\n",
    "        country (str): The country name to filter data for.\n",
    "        from_date (str): The start date in 'YYYY-MM-DD' format.\n",
    "        to_date (str): The end date in 'YYYY-MM-DD' format.\n",
    "    \"\"\"\n",
    "    # Load dataset\n",
    "    df = pd.DataFrame(covid_19_dataset)\n",
    "\n",
    "    # Convert Date column to datetime\n",
    "    df['Date'] = pd.to_datetime(df['Date'])\n",
    "    # Filter data for the specified country and date range\n",
    "    df_country = df[(df['Country'] == country) & (df['Date'] >= from_date) & (df['Date'] <= to_date)]\n",
    "    \n",
    "    # Sort values by date\n",
    "    df_country = df_country.sort_values(by=\"Date\")\n",
    "\n",
    "    # Compute cumulative sum\n",
    "    df_country['Total Confirmed'] = df_country['Confirmed'].cumsum()\n",
    "    df_country['Total Recovered'] = df_country['Recovered'].cumsum()\n",
    "    df_country['Total Deaths'] = df_country['Deaths'].cumsum()\n",
    "\n",
    "    # Plot time series graph\n",
    "    plt.figure(figsize=(12, 6))\n",
    "    plt.plot(df_country['Date'], df_country['Total Confirmed'], label=\"Confirmed Cases\", color='blue')\n",
    "    plt.plot(df_country['Date'], df_country['Total Recovered'], label=\"Recovered Cases\", color='green')\n",
    "    plt.plot(df_country['Date'], df_country['Total Deaths'], label=\"Deaths\", color='red')\n",
    "\n",
    "    # Formatting the plot\n",
    "    plt.xlabel(\"Date\")\n",
    "    plt.ylabel(\"Cumulative Count\")\n",
    "    plt.title(f\"COVID-19 Time Series for {country} ({from_date} to {to_date})\")\n",
    "    plt.legend()\n",
    "    plt.xticks(rotation=45)\n",
    "    plt.grid(True)\n",
    "\n",
    "    # Show plot\n",
    "    plt.show()"
   ]
  },
  {
   "cell_type": "markdown",
   "metadata": {},
   "source": [
    "### Continent Based Time Series Plotting"
   ]
  },
  {
   "cell_type": "code",
   "execution_count": null,
   "metadata": {},
   "outputs": [],
   "source": [
    "def plot_multiple_timeseries(regions: list, column: str, from_date: str, to_date: str):\n",
    "    \"\"\"\n",
    "    Plots a time series graph for multiple regions (countries, continents, or World) for a given column.\n",
    "\n",
    "    Parameters:\n",
    "        regions (list): List of regions (country names, continent names, or \"World\").\n",
    "        column (str): The column to plot (\"Confirmed\", \"Recovered\", or \"Deaths\").\n",
    "        from_date (str): Start date in 'YYYY-MM-DD' format.\n",
    "        to_date (str): End date in 'YYYY-MM-DD' format.\n",
    "    \"\"\"\n",
    "\n",
    "    df = pd.DataFrame(covid_19_dataset)\n",
    "\n",
    "    # Convert Date column to datetime\n",
    "    df['Date'] = pd.to_datetime(df['Date'])\n",
    "\n",
    "    # Filter dataset for date range\n",
    "    df = df[(df['Date'] >= from_date) & (df['Date'] <= to_date)]\n",
    "\n",
    "    # Initialize the plot\n",
    "    plt.figure(figsize=(12, 6))\n",
    "\n",
    "    for region in regions:\n",
    "        if region == \"World\":\n",
    "            # Aggregate data globally\n",
    "            df_region = df.groupby(\"Date\")[column].sum().reset_index()\n",
    "        elif region in regions_dataset[\"Continent\"].unique():\n",
    "            # Get countries belonging to the continent\n",
    "            countries_in_continent = regions_dataset[regions_dataset[\"Continent\"] == region][\"Country\"].unique()\n",
    "            df_region = df[df[\"Country\"].isin(countries_in_continent)].groupby(\"Date\")[column].sum().reset_index()\n",
    "        else:\n",
    "            # Treat as a country\n",
    "            df_region = df[df[\"Country\"] == region].sort_values(by=\"Date\")\n",
    "    \n",
    "        # Compute cumulative sum for the selected column\n",
    "        df_region[f\"Total {column}\"] = df_region[column].cumsum()\n",
    "\n",
    "        # Plot the time series\n",
    "        plt.plot(df_region[\"Date\"], df_region[f\"Total {column}\"], label=f\"{region} ({column})\")\n",
    "\n",
    "    # Formatting the plot\n",
    "    plt.xlabel(\"Date\")\n",
    "    plt.ylabel(\"Cumulative Count\")\n",
    "    plt.title(f\"COVID-19 {column} Cases Over Time ({from_date} to {to_date})\")\n",
    "    plt.legend()\n",
    "    plt.xticks(rotation=45)\n",
    "    plt.grid(True)\n",
    "\n",
    "    # Show plot\n",
    "    plt.show()\n",
    "\n"
   ]
  }
 ],
 "metadata": {
  "kernelspec": {
   "display_name": ".venv",
   "language": "python",
   "name": "python3"
  },
  "language_info": {
   "codemirror_mode": {
    "name": "ipython",
    "version": 3
   },
   "file_extension": ".py",
   "mimetype": "text/x-python",
   "name": "python",
   "nbconvert_exporter": "python",
   "pygments_lexer": "ipython3",
   "version": "3.13.0"
  }
 },
 "nbformat": 4,
 "nbformat_minor": 2
}
