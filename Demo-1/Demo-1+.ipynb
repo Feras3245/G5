{
 "cells": [
  {
   "cell_type": "markdown",
   "metadata": {},
   "source": [
    "# Demo-1+: Vergleich von Zeitreihen mit Liniendiagrammen "
   ]
  },
  {
   "cell_type": "markdown",
   "metadata": {},
   "source": [
    "## Importing Dependencies"
   ]
  },
  {
   "cell_type": "code",
   "execution_count": 1,
   "metadata": {},
   "outputs": [],
   "source": [
    "import pandas as pd\n",
    "import matplotlib.pyplot as plt\n",
    "import ipywidgets as wgts\n",
    "from IPython.display import display\n",
    "import numpy as np"
   ]
  },
  {
   "cell_type": "markdown",
   "metadata": {},
   "source": [
    "## Loading Datasets"
   ]
  },
  {
   "cell_type": "code",
   "execution_count": 2,
   "metadata": {},
   "outputs": [],
   "source": [
    "covid_19_dataset = pd.read_csv('cleaned_dataset.csv')\n",
    "regions_dataset = pd.read_csv('regions_dataset.csv')"
   ]
  },
  {
   "cell_type": "markdown",
   "metadata": {},
   "source": [
    "## Plotting Functions"
   ]
  },
  {
   "cell_type": "markdown",
   "metadata": {},
   "source": [
    "### Region Based Plotting"
   ]
  },
  {
   "cell_type": "code",
   "execution_count": 4,
   "metadata": {},
   "outputs": [],
   "source": [
    "import pandas as pd\n",
    "import matplotlib.pyplot as plt\n",
    "\n",
    "def plot_region_timeseries(region: str, from_date: str, to_date: str):\n",
    "    \"\"\"\n",
    "    Plots a time series graph for a given country, continent, or the world within a specified date range.\n",
    "\n",
    "    Parameters:\n",
    "        region (str): The country, continent, or \"World\".\n",
    "        from_date (str): Start date in 'YYYY-MM-DD' format.\n",
    "        to_date (str): End date in 'YYYY-MM-DD' format.\n",
    "    \"\"\"\n",
    "    global regions_dataset  # Assumes regions_dataset is defined somewhere in the notebook\n",
    "    df = pd.read_csv(\"cleaned_dataset.csv\")\n",
    "\n",
    "    # Convert Date column to datetime\n",
    "    df['Date'] = pd.to_datetime(df['Date'])\n",
    "\n",
    "    # Filter dataset for the given date range\n",
    "    df = df[(df['Date'] >= from_date) & (df['Date'] <= to_date)]\n",
    "\n",
    "    if region == \"World\":\n",
    "        # Aggregate data for the entire world\n",
    "        df_region = df.groupby(\"Date\")[[\"Confirmed\", \"Recovered\", \"Deaths\"]].sum().reset_index()\n",
    "    elif region in regions_dataset[\"Continent\"].unique():\n",
    "        # Get countries belonging to the specified continent\n",
    "        countries_in_continent = regions_dataset[regions_dataset[\"Continent\"] == region][\"Country\"].unique()\n",
    "        df_region = df[df[\"Country\"].isin(countries_in_continent)].groupby(\"Date\")[[\"Confirmed\", \"Recovered\", \"Deaths\"]].sum().reset_index()\n",
    "    else:\n",
    "        # Treat as a country\n",
    "        df_region = df[df[\"Country\"] == region].sort_values(by=\"Date\")\n",
    "\n",
    "    # Compute cumulative sum\n",
    "    df_region[\"Total Confirmed\"] = df_region[\"Confirmed\"].cumsum()\n",
    "    df_region[\"Total Recovered\"] = df_region[\"Recovered\"].cumsum()\n",
    "    df_region[\"Total Deaths\"] = df_region[\"Deaths\"].cumsum()\n",
    "\n",
    "    # Plot time series graph\n",
    "    plt.figure(figsize=(12, 6))\n",
    "    plt.plot(df_region[\"Date\"], df_region[\"Total Confirmed\"], label=\"Confirmed Cases\", color='blue')\n",
    "    plt.plot(df_region[\"Date\"], df_region[\"Total Recovered\"], label=\"Recovered Cases\", color='green')\n",
    "    plt.plot(df_region[\"Date\"], df_region[\"Total Deaths\"], label=\"Deaths\", color='red')\n",
    "\n",
    "    # Formatting the plot\n",
    "    plt.xlabel(\"Date\")\n",
    "    plt.ylabel(\"Cumulative Count\")\n",
    "    plt.title(f\"COVID-19 Time Series for {region} ({from_date} to {to_date})\")\n",
    "    plt.legend()\n",
    "    plt.xticks(rotation=45)\n",
    "    plt.grid(True)\n",
    "\n",
    "    # Show plot\n",
    "    plt.show()"
   ]
  },
  {
   "cell_type": "markdown",
   "metadata": {},
   "source": [
    "### Multiple Time Series Plotting"
   ]
  },
  {
   "cell_type": "code",
   "execution_count": 5,
   "metadata": {},
   "outputs": [],
   "source": [
    "def plot_multiple_timeseries(regions: list, column: str, from_date: str, to_date: str):\n",
    "    \"\"\"\n",
    "    Plots a time series graph for multiple regions (countries, continents, or World) for a given column.\n",
    "\n",
    "    Parameters:\n",
    "        regions (list): List of regions (country names, continent names, or \"World\").\n",
    "        column (str): The column to plot (\"Confirmed\", \"Recovered\", or \"Deaths\").\n",
    "        from_date (str): Start date in 'YYYY-MM-DD' format.\n",
    "        to_date (str): End date in 'YYYY-MM-DD' format.\n",
    "    \"\"\"\n",
    "\n",
    "    df = pd.DataFrame(covid_19_dataset)\n",
    "\n",
    "    # Convert Date column to datetime\n",
    "    df['Date'] = pd.to_datetime(df['Date'])\n",
    "\n",
    "    # Filter dataset for date range\n",
    "    df = df[(df['Date'] >= from_date) & (df['Date'] <= to_date)]\n",
    "\n",
    "    # Initialize the plot\n",
    "    plt.figure(figsize=(12, 6))\n",
    "\n",
    "    for region in regions:\n",
    "        if region == \"World\":\n",
    "            # Aggregate data globally\n",
    "            df_region = df.groupby(\"Date\")[column].sum().reset_index()\n",
    "        elif region in regions_dataset[\"Continent\"].unique():\n",
    "            # Get countries belonging to the continent\n",
    "            countries_in_continent = regions_dataset[regions_dataset[\"Continent\"] == region][\"Country\"].unique()\n",
    "            df_region = df[df[\"Country\"].isin(countries_in_continent)].groupby(\"Date\")[column].sum().reset_index()\n",
    "        else:\n",
    "            # Treat as a country\n",
    "            df_region = df[df[\"Country\"] == region].sort_values(by=\"Date\")\n",
    "    \n",
    "        # Compute cumulative sum for the selected column\n",
    "        df_region[f\"Total {column}\"] = df_region[column].cumsum()\n",
    "\n",
    "        # Plot the time series\n",
    "        plt.plot(df_region[\"Date\"], df_region[f\"Total {column}\"], label=f\"{region} ({column})\")\n",
    "\n",
    "    # Formatting the plot\n",
    "    plt.xlabel(\"Date\")\n",
    "    plt.ylabel(\"Cumulative Count\")\n",
    "    plt.title(f\"COVID-19 {column} Cases Over Time ({from_date} to {to_date})\")\n",
    "    plt.legend()\n",
    "    plt.xticks(rotation=45)\n",
    "    plt.grid(True)\n",
    "\n",
    "    # Show plot\n",
    "    plt.show()"
   ]
  },
  {
   "cell_type": "markdown",
   "metadata": {},
   "source": [
    "## Creating Widgets"
   ]
  },
  {
   "cell_type": "markdown",
   "metadata": {},
   "source": [
    "### Creating Countries & Continents Dropdown Menus"
   ]
  },
  {
   "cell_type": "code",
   "execution_count": 49,
   "metadata": {},
   "outputs": [],
   "source": [
    "regions = regions_dataset['Continent'].unique().tolist()\n",
    "\n",
    "regions.insert(0, 'World')\n",
    "regions_dropdown_menu = wgts.Dropdown(\n",
    "    options= regions,\n",
    "    description='Region:',\n",
    "    disabled=False,\n",
    ")\n",
    "\n",
    "continent_filter = regions_dataset['Continent'] == regions_dropdown_menu.value\n",
    "countries = regions_dataset['Country'].sort_values(ascending=True).to_list()\n",
    "countries.insert(0, 'None')\n",
    "\n",
    "countries_dropdown_menu = wgts.Dropdown(\n",
    "    options= countries,\n",
    "    description='Country:',\n",
    "    disabled=False,\n",
    ")"
   ]
  },
  {
   "cell_type": "markdown",
   "metadata": {},
   "source": [
    "### Creating From/To Day DatePickers"
   ]
  },
  {
   "cell_type": "code",
   "execution_count": 7,
   "metadata": {},
   "outputs": [],
   "source": [
    "import datetime\n",
    "# minimum date value in dataset\n",
    "dateMin = datetime.datetime.strptime(covid_19_dataset['Date'].min(), '%Y-%m-%d').date()\n",
    "# maximum date value in dataset\n",
    "dateMax = datetime.datetime.strptime(covid_19_dataset['Date'].max(), '%Y-%m-%d').date()\n",
    "\n",
    "from_datepicker = wgts.DatePicker(\n",
    "    description='From:',\n",
    "    disabled=False,\n",
    "    value=dateMin,\n",
    "    max=dateMax,\n",
    "    min=dateMin\n",
    ")\n",
    "\n",
    "to_datepicker = wgts.DatePicker(\n",
    "    description='To:',\n",
    "    disabled=False,\n",
    "    value=dateMin,\n",
    "    max=dateMax,\n",
    "    min=dateMin\n",
    ")\n"
   ]
  },
  {
   "cell_type": "markdown",
   "metadata": {},
   "source": [
    "### Demo Category Radio Button"
   ]
  },
  {
   "cell_type": "code",
   "execution_count": null,
   "metadata": {},
   "outputs": [],
   "source": [
    "demo_category_radio = wgts.RadioButtons(\n",
    "    options=['Show Time Series For Region', 'Compare Time Series For Multiple Regions'],\n",
    "    description='Regional Category:',\n",
    "    disabled=False\n",
    ")"
   ]
  },
  {
   "cell_type": "markdown",
   "metadata": {},
   "source": [
    "### Creating Reload, Remove, Add Buttons"
   ]
  },
  {
   "cell_type": "code",
   "execution_count": null,
   "metadata": {},
   "outputs": [],
   "source": [
    "reload_button = wgts.Button(\n",
    "    description='Reload',\n",
    "    disabled=False,\n",
    "    button_style='info',\n",
    "    tooltip='Reload Graph',\n",
    "    icon='check'\n",
    ")\n",
    "\n",
    "remove_button = wgts.Button(\n",
    "    description='Remove',\n",
    "    disabled=False,\n",
    "    button_style='danger',\n",
    "    tooltip='Remove Region',\n",
    "    icon='minus'\n",
    ")\n",
    "\n",
    "add_button = wgts.Button(\n",
    "    description='Add',\n",
    "    disabled=False,\n",
    "    button_style='success',\n",
    "    tooltip='Add Region',\n",
    "    icon='plus'\n",
    ")"
   ]
  },
  {
   "cell_type": "markdown",
   "metadata": {},
   "source": [
    "### Selected Regions Menu"
   ]
  },
  {
   "cell_type": "code",
   "execution_count": null,
   "metadata": {},
   "outputs": [],
   "source": [
    "selected_regions_menu = wgts.Select(\n",
    "    description='Regions:',\n",
    "    disabled=False\n",
    ")"
   ]
  },
  {
   "cell_type": "markdown",
   "metadata": {},
   "source": [
    "### Column Selection Toggle Buttons"
   ]
  },
  {
   "cell_type": "code",
   "execution_count": null,
   "metadata": {},
   "outputs": [],
   "source": [
    "column_selection_buttons = wgts.ToggleButtons(\n",
    "    options=['Confirmed', 'Recovered', 'Deaths'],\n",
    "    description='Column:',\n",
    "    disabled=False,\n",
    "    button_style='', # 'success', 'info', 'warning', 'danger' or ''\n",
    "    tooltips=['Confirmed Cases Of Covid-19', 'Recoveries From Covid-19', 'Deaths From Covid-19'],\n",
    ")"
   ]
  },
  {
   "cell_type": "markdown",
   "metadata": {},
   "source": [
    "## Widget Events"
   ]
  },
  {
   "cell_type": "markdown",
   "metadata": {},
   "source": [
    "### Demo Category Radio Button Event"
   ]
  },
  {
   "cell_type": "code",
   "execution_count": null,
   "metadata": {},
   "outputs": [],
   "source": [
    "def on_demo_category_change(change):\n",
    "    if change['new'] == 0:\n",
    "        selected_regions_menu.disabled = True\n",
    "        column_selection_buttons.disabled = True\n",
    "        add_button.disabled = True\n",
    "        remove_button.disabled = True\n",
    "    elif change['new'] == 1:\n",
    "        selected_regions_menu.disabled = False\n",
    "        column_selection_buttons.disabled = False\n",
    "        add_button.disabled = False\n",
    "        remove_button.disabled = False\n",
    "\n",
    "demo_category_radio.obverve(on_demo_category_change, 'index')"
   ]
  },
  {
   "cell_type": "markdown",
   "metadata": {},
   "source": [
    "### Add/Remove Buttons Clicked Events"
   ]
  },
  {
   "cell_type": "code",
   "execution_count": null,
   "metadata": {},
   "outputs": [],
   "source": [
    "def on_add_button_clicked(change):\n",
    "    if countries_dropdown_menu.value == 'None':\n",
    "        temp_options = list(selected_regions_menu.options)\n",
    "        temp_options.append(regions_dropdown_menu.value)\n",
    "        temp_options = tuple(temp_options)\n",
    "        selected_regions_menu.options = temp_options\n",
    "    else:\n",
    "        temp_options = list(selected_regions_menu.options)\n",
    "        temp_options.append(countries_dropdown_menu.value)\n",
    "        temp_options = tuple(temp_options)\n",
    "        selected_regions_menu.options = temp_options\n",
    "\n",
    "def on_remove_button_clicked(change):\n",
    "    if selected_regions_menu.options == ():\n",
    "        return\n",
    "    else:\n",
    "        temp_options = list(selected_regions_menu.options)\n",
    "        temp_options.remove(selected_regions_menu.value)\n",
    "        temp_options = tuple(temp_options)\n",
    "        selected_regions_menu.options = temp_options\n",
    "\n",
    "add_button.on_click(on_add_button_clicked)\n",
    "remove_button.on_click(on_remove_button_clicked)"
   ]
  },
  {
   "cell_type": "markdown",
   "metadata": {},
   "source": [
    "### Reload Button Clicked"
   ]
  },
  {
   "cell_type": "code",
   "execution_count": null,
   "metadata": {},
   "outputs": [],
   "source": [
    "def on_reload_button_clicked(change):\n",
    "    # case individual region time series\n",
    "    if demo_category_radio.index == 0:\n",
    "        \n",
    "        pass\n",
    "    # case multiple region time series\n",
    "    elif demo_category_radio.index == 1:\n",
    "        pass\n",
    "    pass"
   ]
  }
 ],
 "metadata": {
  "kernelspec": {
   "display_name": ".venv",
   "language": "python",
   "name": "python3"
  },
  "language_info": {
   "codemirror_mode": {
    "name": "ipython",
    "version": 3
   },
   "file_extension": ".py",
   "mimetype": "text/x-python",
   "name": "python",
   "nbconvert_exporter": "python",
   "pygments_lexer": "ipython3",
   "version": "3.13.0"
  }
 },
 "nbformat": 4,
 "nbformat_minor": 2
}
