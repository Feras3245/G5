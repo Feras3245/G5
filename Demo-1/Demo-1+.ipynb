{
 "cells": [
  {
   "cell_type": "markdown",
   "metadata": {},
   "source": [
    "# Demo-1+: Vergleich von Zeitreihen mit Liniendiagrammen "
   ]
  },
  {
   "cell_type": "markdown",
   "metadata": {},
   "source": [
    "## Importing Dependencies"
   ]
  },
  {
   "cell_type": "code",
   "execution_count": 1,
   "metadata": {},
   "outputs": [],
   "source": [
    "import pandas as pd\n",
    "import matplotlib.pyplot as plt\n",
    "import ipywidgets as wgts\n",
    "from IPython.display import display\n",
    "import numpy as np"
   ]
  },
  {
   "cell_type": "markdown",
   "metadata": {},
   "source": [
    "## Sample Plot"
   ]
  },
  {
   "cell_type": "code",
   "execution_count": null,
   "metadata": {},
   "outputs": [],
   "source": [
    "# Load dataset\n",
    "df = pd.read_csv(\"cleaned_dataset.csv\")\n",
    "\n",
    "# Convert Date column to datetime format\n",
    "df['Date'] = pd.to_datetime(df['Date'])\n",
    "\n",
    "# Choose a country (e.g., 'Mexico')\n",
    "country = \"Mexico\"\n",
    "df_country = df[df['Country'] == country].sort_values(by=\"Date\")\n",
    "\n",
    "# Compute cumulative sum\n",
    "df_country['Total Confirmed'] = df_country['Confirmed'].cumsum()\n",
    "df_country['Total Recovered'] = df_country['Recovered'].cumsum()\n",
    "df_country['Total Deaths'] = df_country['Deaths'].cumsum()\n",
    "\n",
    "# Plot time series graph\n",
    "plt.figure(figsize=(12, 6))\n",
    "plt.plot(df_country['Date'], df_country['Total Confirmed'], label=\"Confirmed Cases\", color='blue')\n",
    "plt.plot(df_country['Date'], df_country['Total Recovered'], label=\"Recovered Cases\", color='green')\n",
    "plt.plot(df_country['Date'], df_country['Total Deaths'], label=\"Deaths\", color='red')\n",
    "\n",
    "# Formatting the plot\n",
    "plt.xlabel(\"Date\")\n",
    "plt.ylabel(\"Cumulative Count\")\n",
    "plt.title(f\"COVID-19 Time Series for {country}\")\n",
    "plt.legend()\n",
    "plt.xticks(rotation=45)\n",
    "plt.grid(True)\n",
    "\n",
    "# Show plot\n",
    "# plt.show()"
   ]
  }
 ],
 "metadata": {
  "kernelspec": {
   "display_name": ".venv",
   "language": "python",
   "name": "python3"
  },
  "language_info": {
   "codemirror_mode": {
    "name": "ipython",
    "version": 3
   },
   "file_extension": ".py",
   "mimetype": "text/x-python",
   "name": "python",
   "nbconvert_exporter": "python",
   "pygments_lexer": "ipython3",
   "version": "3.13.0"
  }
 },
 "nbformat": 4,
 "nbformat_minor": 2
}
