{
 "cells": [
  {
   "cell_type": "markdown",
   "metadata": {},
   "source": [
    "# Demo 1: Fallzahlen, Genesungen, und Todesfällen Vergleichen"
   ]
  },
  {
   "cell_type": "markdown",
   "metadata": {},
   "source": [
    "## Importing Dependencies"
   ]
  },
  {
   "cell_type": "code",
   "execution_count": 2,
   "metadata": {},
   "outputs": [],
   "source": [
    "import pandas as pd\n",
    "import matplotlib.pyplot as plt\n",
    "import ipywidgets as wgts\n",
    "from IPython.display import display\n",
    "import numpy as np"
   ]
  },
  {
   "cell_type": "markdown",
   "metadata": {},
   "source": [
    "## Loading Datasets"
   ]
  },
  {
   "cell_type": "code",
   "execution_count": 3,
   "metadata": {},
   "outputs": [],
   "source": [
    "# test data read\n",
    "covid_19_dataset = pd.read_csv('../dataset/cleaned_dataset.csv')\n",
    "regions_dataset = pd.read_csv('../dataset/Countries by continents.csv')"
   ]
  },
  {
   "cell_type": "markdown",
   "metadata": {},
   "source": [
    "## Creating Widgets"
   ]
  },
  {
   "cell_type": "markdown",
   "metadata": {},
   "source": [
    "### Creating Countries & Continents Dropdown Menus"
   ]
  },
  {
   "cell_type": "code",
   "execution_count": 4,
   "metadata": {},
   "outputs": [],
   "source": [
    "countries_dropdown_menu = wgts.Dropdown(\n",
    "    options= regions_dataset['Country'].unique(),\n",
    "    description='Country:',\n",
    "    disabled=False,\n",
    ")\n",
    "\n",
    "continent_dropdown_menu = wgts.Dropdown(\n",
    "    options= regions_dataset['Continent'].unique(),\n",
    "    description='Continent:',\n",
    "    disabled=False,\n",
    ")"
   ]
  },
  {
   "cell_type": "markdown",
   "metadata": {},
   "source": [
    "### Creating Regional Category Radio Button"
   ]
  },
  {
   "cell_type": "code",
   "execution_count": 5,
   "metadata": {},
   "outputs": [],
   "source": [
    "regional_category_radio = wgts.RadioButtons(\n",
    "    options=['Country', 'Region', 'World'],\n",
    "    description='Regional Category:',\n",
    "    disabled=False\n",
    ")"
   ]
  },
  {
   "cell_type": "markdown",
   "metadata": {},
   "source": [
    "### Creating Time Category Radio Button"
   ]
  },
  {
   "cell_type": "code",
   "execution_count": 6,
   "metadata": {},
   "outputs": [],
   "source": [
    "time_category_radio = wgts.RadioButtons(\n",
    "    options=['Daily', 'Monthly', 'Yearly', 'Complete'],\n",
    "    description='Time Category:',\n",
    "    disabled=False\n",
    ")"
   ]
  },
  {
   "cell_type": "markdown",
   "metadata": {},
   "source": [
    "### Creating Months, Years Dropdown Menus & Day DatePicker"
   ]
  },
  {
   "cell_type": "code",
   "execution_count": 7,
   "metadata": {},
   "outputs": [],
   "source": [
    "import datetime\n",
    "# minimum date value in dataset\n",
    "dateMin = datetime.datetime.strptime(covid_19_dataset['Date'].min(), '%Y-%m-%d').date()\n",
    "# maximum date value in dataset\n",
    "dateMax = datetime.datetime.strptime(covid_19_dataset['Date'].max(), '%Y-%m-%d').date()\n",
    "\n",
    "day_datepicker = wgts.DatePicker(\n",
    "    description='Day:',\n",
    "    disabled=False,\n",
    "    max=dateMax,\n",
    "    min=dateMin\n",
    ")\n",
    "\n",
    "year_dropdown_menu = wgts.Dropdown(\n",
    "    options= range(dateMin.year, dateMax.year + 1),\n",
    "    description='Year:',\n",
    "    disabled=False,\n",
    ")\n",
    "\n",
    "month_dropdown_menu = wgts.Dropdown(\n",
    "    options= [\"January\", \"February\", \"March\", \"April\", \"May\", \"June\",\n",
    "          \"July\", \"August\", \"September\", \"October\", \"November\", \"December\"],\n",
    "    description='Month:',\n",
    "    disabled=False,\n",
    ")"
   ]
  },
  {
   "cell_type": "markdown",
   "metadata": {},
   "source": [
    "### Creating Reload Button"
   ]
  },
  {
   "cell_type": "code",
   "execution_count": 8,
   "metadata": {},
   "outputs": [],
   "source": [
    "reload_button = wgts.Button(\n",
    "    description='Reload',\n",
    "    disabled=False,\n",
    "    button_style='info',\n",
    "    tooltip='Reload',\n",
    "    icon='check'\n",
    ")"
   ]
  },
  {
   "cell_type": "markdown",
   "metadata": {},
   "source": [
    "## Plotting Functions"
   ]
  },
  {
   "cell_type": "markdown",
   "metadata": {},
   "source": [
    "### Country By Day Plotting"
   ]
  },
  {
   "cell_type": "code",
   "execution_count": 9,
   "metadata": {},
   "outputs": [],
   "source": [
    "def plot_country_by_day(country:str, day:str):\n",
    "    df = pd.DataFrame(covid_19_dataset)\n",
    "\n",
    "    # Convert Date column to datetime\n",
    "    df['Date'] = pd.to_datetime(df['Date'])\n",
    "\n",
    "    # Target date\n",
    "    target_date = day\n",
    "\n",
    "    # 1. Get Country's data for the target date\n",
    "    date_filter = df['Date'] == pd.to_datetime(target_date)\n",
    "    target_df = df[date_filter]\n",
    "    country_on_date = target_df[target_df['Country'] == country]\n",
    "    country_date_values = country_on_date[['Confirmed', 'Recovered', 'Deaths']].values[0]\n",
    "\n",
    "    # 2. Calculate average for Country across all days\n",
    "    country_all_days = df[df['Country'] == country]\n",
    "    country_avg_values = country_all_days[['Confirmed', 'Recovered', 'Deaths']].mean().values\n",
    "\n",
    "    # 3. Calculate averages for all countries on the target date\n",
    "    all_countries_date_avg = target_df[['Confirmed', 'Recovered', 'Deaths']].mean().values\n",
    "\n",
    "    # Set up the plot\n",
    "    categories = ['Confirmed', 'Recovered', 'Deaths']\n",
    "    x = np.arange(len(categories))\n",
    "    width = 0.25  # Narrower bars to fit three side by side\n",
    "\n",
    "    fig, ax = plt.subplots(figsize=(8, 5))\n",
    "\n",
    "    # Create the three sets of bars\n",
    "    bar1 = ax.bar(x - width, country_date_values, width, label=f'{country} on {target_date}', color='#1f77b4')\n",
    "    bar2 = ax.bar(x, country_avg_values, width, label=f'{country} Average (All Days)', color='#ff7f0e')\n",
    "    bar3 = ax.bar(x + width, all_countries_date_avg, width, label=f'All Countries Average on {target_date}', color='#2ca02c')\n",
    "\n",
    "    # Add labels, title and custom x-axis tick labels\n",
    "    ax.set_xlabel('COVID-19 Metrics', fontsize=9)\n",
    "    ax.set_ylabel('Number of Cases', fontsize=9)\n",
    "    ax.set_title(f'COVID-19 Statistics Comparison for {country}\\n{target_date}', fontsize=12)\n",
    "    ax.set_xticks(x)\n",
    "    ax.set_xticklabels(categories, fontsize=9)\n",
    "    ax.legend(fontsize=9)\n",
    "\n",
    "    # Add counts above bars\n",
    "    def add_labels(bars):\n",
    "        for bar in bars:\n",
    "            height = bar.get_height()\n",
    "            ax.annotate(f'{int(height):,}',\n",
    "                    xy=(bar.get_x() + bar.get_width() / 2, height),\n",
    "                    xytext=(0, 3),  # 3 points vertical offset\n",
    "                    textcoords=\"offset points\",\n",
    "                    ha='center', va='bottom', fontsize=10)\n",
    "\n",
    "    add_labels(bar1)\n",
    "    add_labels(bar2)\n",
    "    add_labels(bar3)\n",
    "\n",
    "    # Add grid lines for better readability\n",
    "    ax.grid(axis='y', linestyle='--', alpha=0.7)\n",
    "\n",
    "    # Print the numerical results for reference\n",
    "    print(f\"{country} values on {target_date}:\")\n",
    "    for category, value in zip(categories, country_date_values):\n",
    "        print(f\"  {category}: {value:.0f}\")\n",
    "\n",
    "    print(f\"\\n{country} average across all days:\")\n",
    "    for category, value in zip(categories, country_avg_values):\n",
    "        print(f\"  {category}: {value:.2f}\")\n",
    "\n",
    "    print(f\"\\nAll countries average on {target_date}:\")\n",
    "    for category, value in zip(categories, all_countries_date_avg):\n",
    "        print(f\"  {category}: {value:.2f}\")\n",
    "\n",
    "    plt.tight_layout()\n",
    "    plt.show()\n"
   ]
  },
  {
   "cell_type": "markdown",
   "metadata": {},
   "source": [
    "### Country By Month"
   ]
  },
  {
   "cell_type": "code",
   "execution_count": null,
   "metadata": {},
   "outputs": [],
   "source": [
    "def plot_country_by_month(country: str, month: str, year: str):\n",
    "    df = pd.DataFrame(covid_19_dataset)\n",
    "    \n",
    "    # Convert Date column to datetime\n",
    "    df['Date'] = pd.to_datetime(df['Date'])\n",
    "    \n",
    "    # Convert month and year to integer\n",
    "    year = int(year)\n",
    "    month_num = int(month)\n",
    "    \n",
    "    # Filter the dataset for the specified month and year\n",
    "    month_filter = (df['Date'].dt.year == year) & (df['Date'].dt.month == month_num)\n",
    "    month_df = df[month_filter]\n",
    "    \n",
    "    # 1. Get Country's data for the target month (averages)\n",
    "    country_month_df = month_df[month_df['Country'] == country]\n",
    "    country_month_avg = country_month_df[['Confirmed', 'Recovered', 'Deaths']].mean().values\n",
    "    \n",
    "    # 2. Calculate the country's average across all recorded days\n",
    "    country_all_days = df[df['Country'] == country]\n",
    "    country_avg_values = country_all_days[['Confirmed', 'Recovered', 'Deaths']].mean().values\n",
    "    \n",
    "    # 3. Calculate averages for all countries on the target month\n",
    "    all_countries_month_avg = month_df[['Confirmed', 'Recovered', 'Deaths']].mean().values\n",
    "    \n",
    "    # Set up the plot\n",
    "    categories = ['Confirmed', 'Recovered', 'Deaths']\n",
    "    x = np.arange(len(categories))\n",
    "    width = 0.25  # Narrower bars to fit three side by side\n",
    "    \n",
    "    fig, ax = plt.subplots(figsize=(8, 5))\n",
    "    \n",
    "    # Create the three sets of bars\n",
    "    bar1 = ax.bar(x - width, country_month_avg, width, label=f'{country} in {month}/{year}', color='#1f77b4')\n",
    "    bar2 = ax.bar(x, country_avg_values, width, label=f'{country} Average (All Time)', color='#ff7f0e')\n",
    "    bar3 = ax.bar(x + width, all_countries_month_avg, width, label=f'All Countries Average in {month}/{year}', color='#2ca02c')\n",
    "    \n",
    "    # Add labels, title, and custom x-axis tick labels\n",
    "    ax.set_xlabel('COVID-19 Metrics', fontsize=9)\n",
    "    ax.set_ylabel('Number of Cases', fontsize=9)\n",
    "    ax.set_title(f'COVID-19 Statistics Comparison for {country} ({month}/{year})', fontsize=12)\n",
    "    ax.set_xticks(x)\n",
    "    ax.set_xticklabels(categories, fontsize=9)\n",
    "    ax.legend(fontsize=9)\n",
    "    \n",
    "    # Add counts above bars\n",
    "    def add_labels(bars):\n",
    "        for bar in bars:\n",
    "            height = bar.get_height()\n",
    "            ax.annotate(f'{int(height):,}',\n",
    "                        xy=(bar.get_x() + bar.get_width() / 2, height),\n",
    "                        xytext=(0, 3),  # 3 points vertical offset\n",
    "                        textcoords=\"offset points\",\n",
    "                        ha='center', va='bottom', fontsize=10)\n",
    "    \n",
    "    add_labels(bar1)\n",
    "    add_labels(bar2)\n",
    "    add_labels(bar3)\n",
    "    \n",
    "    # Add grid lines for better readability\n",
    "    ax.grid(axis='y', linestyle='--', alpha=0.7)\n",
    "    \n",
    "    # Print the numerical results for reference\n",
    "    print(f\"{country} values in {month}/{year}:\")\n",
    "    for category, value in zip(categories, country_month_avg):\n",
    "        print(f\"  {category}: {value:.0f}\")\n",
    "    \n",
    "    print(f\"\\n{country} average across all recorded days:\")\n",
    "    for category, value in zip(categories, country_avg_values):\n",
    "        print(f\"  {category}: {value:.2f}\")\n",
    "    \n",
    "    print(f\"\\nAll countries average in {month}/{year}:\")\n",
    "    for category, value in zip(categories, all_countries_month_avg):\n",
    "        print(f\"  {category}: {value:.2f}\")\n",
    "    \n",
    "    plt.tight_layout()\n",
    "    plt.show()"
   ]
  },
  {
   "cell_type": "markdown",
   "metadata": {},
   "source": [
    "### Country By Year"
   ]
  },
  {
   "cell_type": "code",
   "execution_count": 23,
   "metadata": {},
   "outputs": [],
   "source": [
    "def plot_country_by_year(country: str, year: str):\n",
    "    df = pd.DataFrame(covid_19_dataset)\n",
    "    \n",
    "    # Convert Date column to datetime\n",
    "    df['Date'] = pd.to_datetime(df['Date'])\n",
    "    \n",
    "    # Convert year to integer\n",
    "    year = int(year)\n",
    "    \n",
    "    # Filter the dataset for the specified year\n",
    "    year_filter = df['Date'].dt.year == year\n",
    "    year_df = df[year_filter]\n",
    "    \n",
    "    # 1. Get Country's data for the target year (averages)\n",
    "    country_year_df = year_df[year_df['Country'] == country]\n",
    "    country_year_avg = country_year_df[['Confirmed', 'Recovered', 'Deaths']].mean().values\n",
    "    \n",
    "    # 2. Calculate the country's average across all recorded days\n",
    "    country_all_days = df[df['Country'] == country]\n",
    "    country_avg_values = country_all_days[['Confirmed', 'Recovered', 'Deaths']].mean().values\n",
    "    \n",
    "    # 3. Calculate averages for all countries in the target year\n",
    "    all_countries_year_avg = year_df[['Confirmed', 'Recovered', 'Deaths']].mean().values\n",
    "    \n",
    "    # Set up the plot\n",
    "    categories = ['Confirmed', 'Recovered', 'Deaths']\n",
    "    x = np.arange(len(categories))\n",
    "    width = 0.25  # Narrower bars to fit three side by side\n",
    "    \n",
    "    fig, ax = plt.subplots(figsize=(8, 5))\n",
    "    \n",
    "    # Create the three sets of bars\n",
    "    bar1 = ax.bar(x - width, country_year_avg, width, label=f'{country} in {year}', color='#1f77b4')\n",
    "    bar2 = ax.bar(x, country_avg_values, width, label=f'{country} Average (All Time)', color='#ff7f0e')\n",
    "    bar3 = ax.bar(x + width, all_countries_year_avg, width, label=f'All Countries Average in {year}', color='#2ca02c')\n",
    "    \n",
    "    # Add labels, title, and custom x-axis tick labels\n",
    "    ax.set_xlabel('COVID-19 Metrics', fontsize=9)\n",
    "    ax.set_ylabel('Number of Cases', fontsize=9)\n",
    "    ax.set_title(f'COVID-19 Statistics Comparison for {country} ({year})', fontsize=12)\n",
    "    ax.set_xticks(x)\n",
    "    ax.set_xticklabels(categories, fontsize=9)\n",
    "    ax.legend(fontsize=9)\n",
    "    \n",
    "    # Add counts above bars\n",
    "    def add_labels(bars):\n",
    "        for bar in bars:\n",
    "            height = bar.get_height()\n",
    "            ax.annotate(f'{int(height):,}',\n",
    "                        xy=(bar.get_x() + bar.get_width() / 2, height),\n",
    "                        xytext=(0, 3),  # 3 points vertical offset\n",
    "                        textcoords=\"offset points\",\n",
    "                        ha='center', va='bottom', fontsize=10)\n",
    "    \n",
    "    add_labels(bar1)\n",
    "    add_labels(bar2)\n",
    "    add_labels(bar3)\n",
    "    \n",
    "    # Add grid lines for better readability\n",
    "    ax.grid(axis='y', linestyle='--', alpha=0.7)\n",
    "    \n",
    "    # Print the numerical results for reference\n",
    "    print(f\"{country} values in {year}:\")\n",
    "    for category, value in zip(categories, country_year_avg):\n",
    "        print(f\"  {category}: {value:.0f}\")\n",
    "    \n",
    "    print(f\"\\n{country} average across all recorded days:\")\n",
    "    for category, value in zip(categories, country_avg_values):\n",
    "        print(f\"  {category}: {value:.2f}\")\n",
    "    \n",
    "    print(f\"\\nAll countries average in {year}:\")\n",
    "    for category, value in zip(categories, all_countries_year_avg):\n",
    "        print(f\"  {category}: {value:.2f}\")\n",
    "    \n",
    "    plt.tight_layout()\n",
    "    plt.show()"
   ]
  },
  {
   "cell_type": "markdown",
   "metadata": {},
   "source": [
    "### Country Total"
   ]
  },
  {
   "cell_type": "code",
   "execution_count": 30,
   "metadata": {},
   "outputs": [],
   "source": [
    "def plot_country_by_total(country: str):\n",
    "    df = pd.DataFrame(covid_19_dataset)\n",
    "    \n",
    "    # Convert Date column to datetime\n",
    "    df['Date'] = pd.to_datetime(df['Date'])\n",
    "    \n",
    "    # Calculate the country's average across all recorded days\n",
    "    country_all_days = df[df['Country'] == country]\n",
    "    country_avg_values = country_all_days[['Confirmed', 'Recovered', 'Deaths']].mean().values\n",
    "    \n",
    "    # Calculate global average across all recorded days\n",
    "    global_avg_values = df[['Confirmed', 'Recovered', 'Deaths']].mean().values\n",
    "    \n",
    "    # Set up the plot\n",
    "    categories = ['Confirmed', 'Recovered', 'Deaths']\n",
    "    x = np.arange(len(categories))\n",
    "    width = 0.35  # Wider bars for clear comparison\n",
    "    \n",
    "    fig, ax = plt.subplots(figsize=(8, 5))\n",
    "    \n",
    "    # Create the two sets of bars\n",
    "    bar1 = ax.bar(x - width/2, country_avg_values, width, label=f'{country} Average (All Time)', color='#1f77b4')\n",
    "    bar2 = ax.bar(x + width/2, global_avg_values, width, label='Global Average (All Time)', color='#ff7f0e')\n",
    "    \n",
    "    # Add labels, title, and custom x-axis tick labels\n",
    "    ax.set_xlabel('COVID-19 Metrics', fontsize=9)\n",
    "    ax.set_ylabel('Number of Cases', fontsize=9)\n",
    "    ax.set_title(f'COVID-19 Total Statistics Comparison for {country}', fontsize=12)\n",
    "    ax.set_xticks(x)\n",
    "    ax.set_xticklabels(categories, fontsize=9)\n",
    "    ax.legend(fontsize=9)\n",
    "    \n",
    "    # Add counts above bars\n",
    "    def add_labels(bars):\n",
    "        for bar in bars:\n",
    "            height = bar.get_height()\n",
    "            ax.annotate(f'{int(height):,}',\n",
    "                        xy=(bar.get_x() + bar.get_width() / 2, height),\n",
    "                        xytext=(0, 3),  # 3 points vertical offset\n",
    "                        textcoords=\"offset points\",\n",
    "                        ha='center', va='bottom', fontsize=10)\n",
    "    \n",
    "    add_labels(bar1)\n",
    "    add_labels(bar2)\n",
    "    \n",
    "    # Add grid lines for better readability\n",
    "    ax.grid(axis='y', linestyle='--', alpha=0.7)\n",
    "    \n",
    "    # Print the numerical results for reference\n",
    "    print(f\"{country} average across all recorded days:\")\n",
    "    for category, value in zip(categories, country_avg_values):\n",
    "        print(f\"  {category}: {value:.2f}\")\n",
    "    \n",
    "    print(f\"\\nGlobal average across all recorded days:\")\n",
    "    for category, value in zip(categories, global_avg_values):\n",
    "        print(f\"  {category}: {value:.2f}\")\n",
    "    \n",
    "    plt.tight_layout()\n",
    "    plt.show()"
   ]
  }
 ],
 "metadata": {
  "kernelspec": {
   "display_name": ".venv",
   "language": "python",
   "name": "python3"
  },
  "language_info": {
   "codemirror_mode": {
    "name": "ipython",
    "version": 3
   },
   "file_extension": ".py",
   "mimetype": "text/x-python",
   "name": "python",
   "nbconvert_exporter": "python",
   "pygments_lexer": "ipython3",
   "version": "3.13.0"
  }
 },
 "nbformat": 4,
 "nbformat_minor": 2
}
