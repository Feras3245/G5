{
 "cells": [
  {
   "cell_type": "markdown",
   "metadata": {},
   "source": [
    "# Demo-2: Heatmap"
   ]
  },
  {
   "cell_type": "code",
   "execution_count": 36,
   "metadata": {},
   "outputs": [],
   "source": [
    "# Importing Dependencies\n",
    "import pandas as pd\n",
    "import matplotlib.pyplot as plt\n",
    "import ipywidgets as wgts\n",
    "from ipywidgets import interact\n",
    "from IPython.display import display\n",
    "import numpy as np\n",
    "import geopandas as gpd\n",
    "import folium\n",
    "\n"
   ]
  },
  {
   "cell_type": "markdown",
   "metadata": {},
   "source": [
    "# Loading data"
   ]
  },
  {
   "cell_type": "code",
   "execution_count": 7,
   "metadata": {},
   "outputs": [],
   "source": [
    "# reading data\n",
    "df=pd.read_csv('../dataset/cleaned_dataset.csv')"
   ]
  },
  {
   "cell_type": "markdown",
   "metadata": {},
   "source": [
    "\n",
    "# Display first few rows to check column names"
   ]
  },
  {
   "cell_type": "code",
   "execution_count": 9,
   "metadata": {},
   "outputs": [
    {
     "name": "stdout",
     "output_type": "stream",
     "text": [
      "<bound method NDFrame.head of               Date      Country  Confirmed  Recovered  Deaths\n",
      "0       2020-01-22  Afghanistan          0          0       0\n",
      "1       2020-01-23  Afghanistan          0          0       0\n",
      "2       2020-01-24  Afghanistan          0          0       0\n",
      "3       2020-01-25  Afghanistan          0          0       0\n",
      "4       2020-01-26  Afghanistan          0          0       0\n",
      "...            ...          ...        ...        ...     ...\n",
      "156667  2022-04-12     Zimbabwe         84        475       0\n",
      "156668  2022-04-13     Zimbabwe         66        349       0\n",
      "156669  2022-04-14     Zimbabwe         48        329       2\n",
      "156670  2022-04-15     Zimbabwe         29        781       0\n",
      "156671  2022-04-16     Zimbabwe          0          0       0\n",
      "\n",
      "[156672 rows x 5 columns]>\n"
     ]
    }
   ],
   "source": [
    "\n",
    "print(df.head)"
   ]
  },
  {
   "cell_type": "markdown",
   "metadata": {},
   "source": [
    "# creating a heatmap based on Date, Country, Confirmed, Recovered, Deaths\n"
   ]
  },
  {
   "cell_type": "code",
   "execution_count": 28,
   "metadata": {},
   "outputs": [],
   "source": [
    "df['Date'] = pd.to_datetime(df['Date'])\n",
    "\n",
    "# Ensure data is sorted by date and country\n",
    "df = df.sort_values(by=['Country', 'Date'])"
   ]
  },
  {
   "cell_type": "code",
   "execution_count": 29,
   "metadata": {},
   "outputs": [],
   "source": [
    "# Pivot the data to have countries as rows and dates as columns for each metric\n",
    "confirmed_pivot = df.pivot_table(index='Country', columns='Date', values='Confirmed', aggfunc='sum')\n",
    "recovered_pivot = df.pivot_table(index='Country', columns='Date', values='Recovered', aggfunc='sum')\n",
    "deaths_pivot = df.pivot_table(index='Country', columns='Date', values='Deaths', aggfunc='sum')\n"
   ]
  },
  {
   "cell_type": "code",
   "execution_count": 46,
   "metadata": {},
   "outputs": [],
   "source": [
    "def plot_heatmap(country, start_date, end_date, metric='Confirmed'):\n",
    "    # Filter the data for the selected country and date range\n",
    "    if metric == 'Confirmed':\n",
    "        data = confirmed_pivot.loc[country, start_date:end_date]\n",
    "    elif metric == 'Recovered':\n",
    "        data = recovered_pivot.loc[country, start_date:end_date]\n",
    "    elif metric == 'Deaths':\n",
    "        data = deaths_pivot.loc[country, start_date:end_date]\n",
    "    \n",
    "    # Plot the heatmap\n",
    "    plt.figure(figsize=(18, 6))\n",
    "    plt.imshow([data], cmap='YlGnBu', aspect='auto')\n",
    "    plt.xticks(ticks=np.arange(len(data)), labels=data.index.strftime('%Y-%m-%d'), rotation=90)\n",
    "    plt.yticks([0], labels=[country])\n",
    "    plt.colorbar(label=f'{metric} Cases')\n",
    "    plt.title(f'{metric} Cases for {country} ({start_date} to {end_date})')\n",
    "    plt.tight_layout()\n",
    "    plt.show()\n"
   ]
  },
  {
   "cell_type": "code",
   "execution_count": null,
   "metadata": {},
   "outputs": [
    {
     "data": {
      "application/vnd.jupyter.widget-view+json": {
       "model_id": "f0abb74ebc8b41fa9a7762b5ff9d47fa",
       "version_major": 2,
       "version_minor": 0
      },
      "text/plain": [
       "interactive(children=(Dropdown(description='Country:', options=('Afghanistan', 'Albania', 'Algeria', 'Andorra'…"
      ]
     },
     "metadata": {},
     "output_type": "display_data"
    },
    {
     "data": {
      "text/plain": [
       "<function __main__.plot_heatmap(country, start_date, end_date, metric='Confirmed')>"
      ]
     },
     "execution_count": 47,
     "metadata": {},
     "output_type": "execute_result"
    }
   ],
   "source": [
    "\n",
    "# Create dropdown for country selection\n",
    "country_dropdown =  wgts.Dropdown(\n",
    "    options=df['Country'].unique(),\n",
    "    description='Country:',\n",
    "    value=df['Country'].unique()[0]\n",
    ")\n",
    "\n",
    "# Create date pickers for selecting start and end dates\n",
    "start_date_picker = wgts.DatePicker(\n",
    "    description='Start Date:',\n",
    "    value=df['Date'].min()\n",
    ")\n",
    "\n",
    "end_date_picker = wgts.DatePicker(\n",
    "    description='End Date:',\n",
    "    value=df['Date'].max()\n",
    ")\n",
    "\n",
    "# Create dropdown for selecting the metric (Confirmed, Recovered, or Deaths)\n",
    "metric_dropdown = wgts.Dropdown(\n",
    "    options=['Confirmed', 'Recovered', 'Deaths'],\n",
    "    description='Metric:',\n",
    "    value='Confirmed'\n",
    ")\n",
    "\n",
    "# Use interactive widget to connect everything\n",
    "interact(plot_heatmap, country=country_dropdown, start_date=start_date_picker, \n",
    "         end_date=end_date_picker, metric=metric_dropdown)\n"
   ]
  }
 ],
 "metadata": {
  "kernelspec": {
   "display_name": ".venv",
   "language": "python",
   "name": "python3"
  },
  "language_info": {
   "codemirror_mode": {
    "name": "ipython",
    "version": 3
   },
   "file_extension": ".py",
   "mimetype": "text/x-python",
   "name": "python",
   "nbconvert_exporter": "python",
   "pygments_lexer": "ipython3",
   "version": "3.13.1"
  }
 },
 "nbformat": 4,
 "nbformat_minor": 2
}
