{
 "cells": [
  {
   "cell_type": "markdown",
   "metadata": {},
   "source": [
    "# Demo-3: Bericht Erstellen "
   ]
  },
  {
   "cell_type": "markdown",
   "metadata": {},
   "source": [
    "## Aufgabe 1.1 Abhängigkeit Hinzufügen"
   ]
  },
  {
   "cell_type": "code",
   "execution_count": null,
   "metadata": {},
   "outputs": [],
   "source": [
    "# Abhängigkeit Hinzufügen\n",
    "import pandas as pd\n",
    "import matplotlib.pyplot as plt\n",
    "import ipywidgets as wgts\n",
    "from IPython.display import display\n",
    "import numpy as np"
   ]
  },
  {
   "cell_type": "markdown",
   "metadata": {},
   "source": [
    "## Datasets einlesen"
   ]
  },
  {
   "cell_type": "code",
   "execution_count": null,
   "metadata": {},
   "outputs": [],
   "source": [
    "# Dataset lesen\n",
    "df=pd.read_csv(\"C:\\\\Users\\\\ahmad\\\\Desktop\\\\owid-covid-data.csv\")\n",
    "\n"
   ]
  },
  {
   "cell_type": "markdown",
   "metadata": {},
   "source": [
    "## Dataset Info zeigen"
   ]
  },
  {
   "cell_type": "code",
   "execution_count": null,
   "metadata": {},
   "outputs": [],
   "source": [
    "# Dataset zeigen 5 erste Zeile\n",
    "df.head()"
   ]
  },
  {
   "cell_type": "code",
   "execution_count": null,
   "metadata": {},
   "outputs": [],
   "source": [
    "# Anzahl von Zeilen und Spalten\n",
    "df.shape"
   ]
  },
  {
   "cell_type": "code",
   "execution_count": null,
   "metadata": {},
   "outputs": [],
   "source": [
    "# Namen von Spalten\n",
    "df.columns"
   ]
  },
  {
   "cell_type": "markdown",
   "metadata": {},
   "source": [
    "## Dataset bereinigen"
   ]
  },
  {
   "cell_type": "code",
   "execution_count": null,
   "metadata": {},
   "outputs": [],
   "source": [
    "# Nullwerte zeigen\n",
    "df.isnull().sum()"
   ]
  },
  {
   "cell_type": "code",
   "execution_count": null,
   "metadata": {},
   "outputs": [],
   "source": [
    "# Spalten mit Nullwerte löschen\n",
    "df.drop(columns=[\"excess_mortality_cumulative_per_million\",\"excess_mortality\",\"excess_mortality_cumulative\",\n",
    "\"excess_mortality_cumulative_absolute\"], inplace=True)"
   ]
  },
  {
   "cell_type": "code",
   "execution_count": null,
   "metadata": {},
   "outputs": [],
   "source": [
    "df.isnull().sum()"
   ]
  },
  {
   "cell_type": "code",
   "execution_count": null,
   "metadata": {},
   "outputs": [],
   "source": [
    "# Erstelle das Boxplot für die 'total_cases'-Spalte (einschließlich Ausreißer)\n",
    "import plotly.express as px\n",
    "px.box(df[\"total_cases\"]) #hat outlyer"
   ]
  },
  {
   "cell_type": "code",
   "execution_count": null,
   "metadata": {},
   "outputs": [],
   "source": [
    "#handling missing werts\n",
    "df[\"total_cases\"]=df['total_cases'].fillna(df[\"total_cases\"].median())"
   ]
  },
  {
   "cell_type": "code",
   "execution_count": null,
   "metadata": {},
   "outputs": [],
   "source": [
    "px.box(df[\"life_expectancy\"]) #keine outlayer"
   ]
  },
  {
   "cell_type": "markdown",
   "metadata": {},
   "source": [
    "## Spalten mit Nullwerte durch mean oder median bezuglich des Auslereißer"
   ]
  },
  {
   "cell_type": "code",
   "execution_count": null,
   "metadata": {},
   "outputs": [],
   "source": [
    "df[\"life_expectancy\"]=df['life_expectancy'].fillna(df[\"life_expectancy\"].mean())\n",
    "\n",
    "df[\"new_cases_smoothed\"]=df['new_cases_smoothed'].fillna(df[\"new_cases_smoothed\"].mean())\n",
    "\n",
    "df[\"new_deaths_smoothed\"]=df['new_deaths_smoothed'].fillna(df[\"new_deaths_smoothed\"].mean())\n",
    "\n",
    "df[\"new_cases\"]=df['new_cases'].fillna(df[\"new_cases\"].mean())\n",
    "\n",
    "df[\"extreme_poverty\"]=df['extreme_poverty'].fillna(df[\"extreme_poverty\"].mean())\n",
    "\n",
    "df[\"female_smokers\"]=df['female_smokers'].fillna(df[\"female_smokers\"].mean())\n",
    "\n",
    "df[\"male_smokers\"]=df['male_smokers'].fillna(df[\"male_smokers\"].mean())\n",
    "\n",
    "df[\"handwashing_facilities\"]=df['handwashing_facilities'].fillna(df[\"handwashing_facilities\"].mean())\n",
    "\n",
    "df[\"hospital_beds_per_thousand\"]=df['hospital_beds_per_thousand'].fillna(df[\"hospital_beds_per_thousand\"].mean())\n",
    "\n",
    "df[\"human_development_index\"]=df['human_development_index'].fillna(df[\"human_development_index\"].mean())\n",
    "\n"
   ]
  },
  {
   "cell_type": "markdown",
   "metadata": {},
   "source": [
    "## Mode Funktion für text Werte"
   ]
  },
  {
   "cell_type": "code",
   "execution_count": null,
   "metadata": {},
   "outputs": [],
   "source": [
    "# Fill missing values with mode (most frequent value)\n",
    "df['continent'].fillna(df['continent'].mode()[0], inplace=True)"
   ]
  },
  {
   "cell_type": "code",
   "execution_count": null,
   "metadata": {},
   "outputs": [],
   "source": [
    "df.isnull().sum() #keine mehr null wert"
   ]
  },
  {
   "cell_type": "markdown",
   "metadata": {},
   "source": [
    "## Filter Data by Country"
   ]
  },
  {
   "cell_type": "code",
   "execution_count": null,
   "metadata": {},
   "outputs": [],
   "source": [
    "country = \"Iran\"\n",
    "df_country = df[df['location'] == country] # Filter Data by Country\n",
    "df_country"
   ]
  },
  {
   "cell_type": "code",
   "execution_count": null,
   "metadata": {},
   "outputs": [],
   "source": [
    "country = \"Iran\"\n",
    "df_new_cases = df[(df['new_cases'] > 0) & (df['location'] == country)]\n",
    "\n",
    "\n",
    "print(df_new_cases[['date', 'location', 'new_cases']].head(100)) #taglish new case\n"
   ]
  },
  {
   "cell_type": "code",
   "execution_count": null,
   "metadata": {},
   "outputs": [],
   "source": [
    "start_date = \"2020-01-05\"\n",
    "end_date = \"2022-02-01\"\n",
    "\n",
    "df_date_range = df[(df['date'] >= start_date) & (df['date'] <= end_date)]\n",
    "print(df_date_range[['date', 'location', 'new_cases']])"
   ]
  },
  {
   "cell_type": "markdown",
   "metadata": {},
   "source": [
    "## Radio-Button-Widget für Fragen"
   ]
  },
  {
   "cell_type": "code",
   "execution_count": null,
   "metadata": {},
   "outputs": [],
   "source": [
    "\n",
    "# Liste der Fragen\n",
    "questions = [\n",
    "    \"Wie schwer verläuft COVID-19 bei älteren Menschen?\",\n",
    "    \"Welchen Einfluss hat das Rauchen auf den Krankheitsverlauf?\",\n",
    "    \"Wie unterscheidet sich die COVID-19-Sterblichkeitsrate zwischen Männern und Frauen?\",\n",
    "    \"Hat eine hohe Bevölkerungsdichte einen Einfluss auf die Ausbreitung von COVID-19?\",\n",
    "    \"Wie hat sich COVID-19 saisonal entwickelt?\"\n",
    "    \n",
    "]\n",
    "\n",
    "# Widget für die Auswahl der Frage\n",
    "question_selector = wgts.RadioButtons(\n",
    "    options=questions,\n",
    "    description=\"Frage:\",  \n",
    "    disabled=False,\n",
    "    layout={'width':'max-content'}\n",
    ")\n",
    "\n",
    "# Ausgabe-Widget\n",
    "output = wgts.Output()\n",
    "\n",
    "# Funktion zum Aktualisieren der Ausgabe\n",
    "def on_question_selected(change):\n",
    "    with output:\n",
    "        output.clear_output()\n",
    "        print(f\"Analyse zu: {change['new']}\")\n",
    "\n",
    "# Event-Listener für Änderungen hinzufügen\n",
    "question_selector.observe(on_question_selected, names='value')\n",
    "\n",
    "# Anzeige der Widgets\n",
    "display(question_selector, output)\n"
   ]
  }
 ],
 "metadata": {
  "kernelspec": {
   "display_name": "base",
   "language": "python",
   "name": "python3"
  },
  "language_info": {
   "codemirror_mode": {
    "name": "ipython",
    "version": 3
   },
   "file_extension": ".py",
   "mimetype": "text/x-python",
   "name": "python",
   "nbconvert_exporter": "python",
   "pygments_lexer": "ipython3",
   "version": "3.12.7"
  }
 },
 "nbformat": 4,
 "nbformat_minor": 2
}
