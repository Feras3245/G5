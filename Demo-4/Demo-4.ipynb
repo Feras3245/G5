{
 "cells": [
  {
   "cell_type": "markdown",
   "metadata": {},
   "source": [
    "# Demo-4: Liniendiagramm Vergleich zwischen Ländern/Kontinenten"
   ]
  },
  {
   "cell_type": "code",
   "execution_count": 6,
   "metadata": {},
   "outputs": [],
   "source": [
    "import matplotlib.pyplot as plt\n",
    "import pandas as pd\n",
    "import ipywidgets as widgets\n",
    "from IPython.display import display\n",
    "import matplotlib.dates as mdates"
   ]
  },
  {
   "cell_type": "code",
   "execution_count": 7,
   "metadata": {},
   "outputs": [],
   "source": [
    "df = pd.read_csv(\"../dataset/cleaned_dataset.csv\")\n",
    "df[\"Date\"] = pd.to_datetime(df[\"Date\"])"
   ]
  },
  {
   "cell_type": "code",
   "execution_count": 8,
   "metadata": {},
   "outputs": [],
   "source": [
    "ulkeler = df[\"Country\"].unique()  # Benzersiz ülkeleri listele\n",
    "ulke_secim = widgets.Dropdown(\n",
    "    options=ulkeler,\n",
    "    description=\"Wahl Land:\",\n",
    "    style={'description_width': 'initial'}\n",
    ")"
   ]
  },
  {
   "cell_type": "code",
   "execution_count": 9,
   "metadata": {},
   "outputs": [],
   "source": [
    "def guncelle(ulke):\n",
    "    # Son 1 yılı filtrele\n",
    "    df[\"Date\"] = pd.to_datetime(df[\"Date\"], errors='coerce')  # Hatalı formatları NaT yapar\n",
    "    son_tarih = df[\"Date\"].max()  # Maksimum tarihi al\n",
    "    baslangic_tarih = son_tarih - pd.DateOffset(years=1)  # Son 1 yılın başlangıç tarihi\n",
    "\n",
    "    df_ulke = df[(df[\"Country\"] == ulke) & (df[\"Date\"] >= baslangic_tarih)]\n",
    "    \n",
    "    # Toplam onaylanmış vaka sayısını hesapla\n",
    "    toplam_vaka = df_ulke[\"Confirmed\"].sum()\n",
    "    \n",
    "    # Metin olarak toplam vaka sayısını göster\n",
    "    display(f\"Gesamtzahl der bestätigten Fälle: {toplam_vaka:,}\")\n",
    "\n",
    "    # Grafiği oluştur\n",
    "    plt.figure(figsize=(12, 6))\n",
    "    plt.plot(df_ulke[\"Date\"], df_ulke[\"Confirmed\"], marker='o', linestyle='-', label=ulke, color='b')\n",
    "\n",
    "    plt.xlabel(\"Datum\")\n",
    "    plt.ylabel(\"Bestätigte Fallzahl\")\n",
    "    plt.title(f\"{ulke} - COVID-19 Bestätigte Fälle (in letztem Jahr)\")\n",
    "    \n",
    "    # X eksenini her ay olacak şekilde ayarla\n",
    "    plt.gca().xaxis.set_major_locator(mdates.MonthLocator(interval=1))\n",
    "    plt.gca().xaxis.set_major_formatter(mdates.DateFormatter(\"%Y-%m\"))  # Yıl-Ay formatı\n",
    "    \n",
    "    plt.xticks(rotation=45)\n",
    "    plt.legend()\n",
    "    plt.grid(True, linestyle=\"--\", alpha=0.5)\n",
    "    \n",
    "    plt.show()"
   ]
  },
  {
   "cell_type": "code",
   "execution_count": 10,
   "metadata": {},
   "outputs": [
    {
     "data": {
      "application/vnd.jupyter.widget-view+json": {
       "model_id": "5817f2151f5749a5bc3f7ea227a37300",
       "version_major": 2,
       "version_minor": 0
      },
      "text/plain": [
       "interactive(children=(Dropdown(description='Wahl Land:', options=('Afghanistan', 'Albania', 'Algeria', 'Andorr…"
      ]
     },
     "metadata": {},
     "output_type": "display_data"
    }
   ],
   "source": [
    "widgets.interactive(guncelle, ulke=ulke_secim)"
   ]
  },
  {
   "cell_type": "code",
   "execution_count": 11,
   "metadata": {},
   "outputs": [],
   "source": [
    "import matplotlib.pyplot as plt\n",
    "import pandas as pd\n",
    "import ipywidgets as widgets\n",
    "from IPython.display import display"
   ]
  },
  {
   "cell_type": "code",
   "execution_count": 12,
   "metadata": {},
   "outputs": [],
   "source": [
    "df = pd.read_csv(\"../dataset/cleaned_dataset.csv\")\n",
    "df[\"Date\"] = pd.to_datetime(df[\"Date\"])"
   ]
  },
  {
   "cell_type": "code",
   "execution_count": 13,
   "metadata": {},
   "outputs": [],
   "source": [
    "countries = df[\"Country\"].unique()  # Listen einzigartige Ländern\n",
    "ulke_secim = widgets.Dropdown(\n",
    "    options=countries,\n",
    "    description=\"Country:\",\n",
    "    style={'description_width': 'initial'}\n",
    ")\n",
    "\n",
    "# Wahl Datumsabstand\n",
    "tarih_secim = widgets.SelectionRangeSlider(\n",
    "    options=[str(date) for date in pd.to_datetime(df[\"Date\"].unique())],\n",
    "    index=(0, len(df[\"Date\"].unique())-1),\n",
    "    description=\"Datum Abstand:\",\n",
    "    style={'description_width': 'initial'}\n",
    ")\n"
   ]
  },
  {
   "cell_type": "code",
   "execution_count": 14,
   "metadata": {},
   "outputs": [],
   "source": [
    "def aktulisiere(country, tarih_araligi):\n",
    "    # Seçilen tarih aralığını al\n",
    "    baslangic_tarih, bitis_tarih = pd.to_datetime(tarih_araligi[0]), pd.to_datetime(tarih_araligi[1])\n",
    "    \n",
    "    # Seçilen ülkenin verilerini al\n",
    "    df_country = df[(df[\"Country\"] == country) & (df[\"Date\"] >= baslangic_tarih) & (df[\"Date\"] <= bitis_tarih)]\n",
    "    \n",
    "    # Toplam onaylanmış vaka sayısını hesapla\n",
    "    toplam_vaka = df_country[\"Confirmed\"].sum()  \n",
    "    \n",
    "    # Metin olarak toplam vaka sayısını göster\n",
    "    display(f\"Gesamtzahl der bestätigten Fälle: {toplam_vaka:,}\")\n",
    "\n",
    "    # Grafiği oluştur\n",
    "    plt.figure(figsize=(12, 6))\n",
    "    plt.plot(df_country[\"Date\"], df_country[\"Confirmed\"], marker='o', linestyle='-', label=country, color='b')\n",
    "\n",
    "    plt.xlabel(\"Datum\")\n",
    "    plt.ylabel(\"Bestätigte Fallzahl\")\n",
    "    plt.title(f\"{country} - COVID-19 Bestätigte Fallzahl ({baslangic_tarih.date()} - {bitis_tarih.date()})\")\n",
    "    \n",
    "    plt.xticks(rotation=45)\n",
    "    plt.legend()\n",
    "    plt.grid(True, linestyle=\"--\", alpha=0.5)\n",
    "    \n",
    "    plt.show()"
   ]
  },
  {
   "cell_type": "code",
   "execution_count": 15,
   "metadata": {},
   "outputs": [
    {
     "data": {
      "application/vnd.jupyter.widget-view+json": {
       "model_id": "ded6d45ccd794d9da0fe34ea110d7a4e",
       "version_major": 2,
       "version_minor": 0
      },
      "text/plain": [
       "interactive(children=(Dropdown(description='Country:', options=('Afghanistan', 'Albania', 'Algeria', 'Andorra'…"
      ]
     },
     "metadata": {},
     "output_type": "display_data"
    }
   ],
   "source": [
    "widgets.interactive(aktulisiere, country=ulke_secim, tarih_araligi=tarih_secim)"
   ]
  }
 ],
 "metadata": {
  "kernelspec": {
   "display_name": "base",
   "language": "python",
   "name": "python3"
  },
  "language_info": {
   "codemirror_mode": {
    "name": "ipython",
    "version": 3
   },
   "file_extension": ".py",
   "mimetype": "text/x-python",
   "name": "python",
   "nbconvert_exporter": "python",
   "pygments_lexer": "ipython3",
   "version": "3.12.7"
  }
 },
 "nbformat": 4,
 "nbformat_minor": 2
}
