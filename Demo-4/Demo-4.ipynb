{
 "cells": [
  {
   "cell_type": "markdown",
   "metadata": {},
   "source": [
    "# Demo-4: Liniendiagramm Vergleich zwischen Ländern/Kontinenten"
   ]
  },
  {
   "cell_type": "code",
   "execution_count": 26,
   "metadata": {},
   "outputs": [],
   "source": [
    "import matplotlib.pyplot as plt\n",
    "import pandas as pd\n",
    "import ipywidgets as widgets\n",
    "from IPython.display import display\n",
    "import matplotlib.dates as mdates"
   ]
  },
  {
   "cell_type": "code",
   "execution_count": 27,
   "metadata": {},
   "outputs": [],
   "source": [
    "df = pd.read_csv(\"../dataset/cleaned_dataset.csv\")\n",
    "df[\"Date\"] = pd.to_datetime(df[\"Date\"])"
   ]
  },
  {
   "cell_type": "code",
   "execution_count": 28,
   "metadata": {},
   "outputs": [],
   "source": [
    "ulkeler = df[\"Country\"].unique()  # Benzersiz ülkeleri listele\n",
    "ulke_secim = widgets.Dropdown(\n",
    "    options=ulkeler,\n",
    "    description=\"Wahl Land:\",\n",
    "    style={'description_width': 'initial'}\n",
    ")"
   ]
  },
  {
   "cell_type": "code",
   "execution_count": 29,
   "metadata": {},
   "outputs": [],
   "source": [
    "def guncelle(ulke):\n",
    "    # Son 1 yılı filtrele\n",
    "    df[\"Date\"] = pd.to_datetime(df[\"Date\"], errors='coerce')  # Hatalı formatları NaT yapar\n",
    "    son_tarih = df[\"Date\"].max()  # Maksimum tarihi al\n",
    "    baslangic_tarih = son_tarih - pd.DateOffset(years=1)  # Son 1 yılın başlangıç tarihi\n",
    "\n",
    "    df_ulke = df[(df[\"Country\"] == ulke) & (df[\"Date\"] >= baslangic_tarih)]\n",
    "    \n",
    "    # Toplam onaylanmış vaka sayısını hesapla\n",
    "    toplam_vaka = df_ulke[\"Confirmed\"].sum()\n",
    "    \n",
    "    # Metin olarak toplam vaka sayısını göster\n",
    "    display(f\"Gesamtzahl der bestätigten Fälle: {toplam_vaka:,}\")\n",
    "\n",
    "    # Grafiği oluştur\n",
    "    plt.figure(figsize=(12, 6))\n",
    "    plt.plot(df_ulke[\"Date\"], df_ulke[\"Confirmed\"], marker='o', linestyle='-', label=ulke, color='b')\n",
    "\n",
    "    plt.xlabel(\"Datum\")\n",
    "    plt.ylabel(\"Bestätigte Fallzahl\")\n",
    "    plt.title(f\"{ulke} - COVID-19 Bestätigte Fälle (in letztem Jahr)\")\n",
    "    \n",
    "    # X eksenini her ay olacak şekilde ayarla\n",
    "    plt.gca().xaxis.set_major_locator(mdates.MonthLocator(interval=1))\n",
    "    plt.gca().xaxis.set_major_formatter(mdates.DateFormatter(\"%Y-%m\"))  # Yıl-Ay formatı\n",
    "    \n",
    "    plt.xticks(rotation=45)\n",
    "    plt.legend()\n",
    "    plt.grid(True, linestyle=\"--\", alpha=0.5)\n",
    "    \n",
    "    plt.show()"
   ]
  },
  {
   "cell_type": "code",
   "execution_count": 30,
   "metadata": {},
   "outputs": [
    {
     "data": {
      "application/vnd.jupyter.widget-view+json": {
       "model_id": "d7c23ec78ff54f02958b493df72825f8",
       "version_major": 2,
       "version_minor": 0
      },
      "text/plain": [
       "interactive(children=(Dropdown(description='Wahl Land:', options=('Afghanistan', 'Albania', 'Algeria', 'Andorr…"
      ]
     },
     "metadata": {},
     "output_type": "display_data"
    }
   ],
   "source": [
    "widgets.interactive(guncelle, ulke=ulke_secim)"
   ]
  },
  {
   "cell_type": "code",
   "execution_count": 31,
   "metadata": {},
   "outputs": [],
   "source": [
    "import matplotlib.pyplot as plt\n",
    "import pandas as pd\n",
    "import ipywidgets as widgets\n",
    "from IPython.display import display"
   ]
  },
  {
   "cell_type": "code",
   "execution_count": 32,
   "metadata": {},
   "outputs": [],
   "source": [
    "df = pd.read_csv(\"../dataset/cleaned_dataset.csv\")\n",
    "df[\"Date\"] = pd.to_datetime(df[\"Date\"])"
   ]
  },
  {
   "cell_type": "code",
   "execution_count": 33,
   "metadata": {},
   "outputs": [],
   "source": [
    "countries = df[\"Country\"].unique()  # Listen einzigartige Ländern\n",
    "ulke_secim = widgets.Dropdown(\n",
    "    options=countries,\n",
    "    description=\"Country:\",\n",
    "    style={'description_width': 'initial'}\n",
    ")\n",
    "\n",
    "# Wahl Datumsabstand\n",
    "tarih_secim = widgets.SelectionRangeSlider(\n",
    "    options=[str(date) for date in pd.to_datetime(df[\"Date\"].unique())],\n",
    "    index=(0, len(df[\"Date\"].unique())-1),\n",
    "    description=\"Datum Abstand:\",\n",
    "    style={'description_width': 'initial'}\n",
    ")\n"
   ]
  },
  {
   "cell_type": "code",
   "execution_count": 34,
   "metadata": {},
   "outputs": [],
   "source": [
    "def aktulisiere(country, tarih_araligi):\n",
    "    # Seçilen tarih aralığını al\n",
    "    baslangic_tarih, bitis_tarih = pd.to_datetime(tarih_araligi[0]), pd.to_datetime(tarih_araligi[1])\n",
    "    \n",
    "    # Seçilen ülkenin verilerini al\n",
    "    df_country = df[(df[\"Country\"] == country) & (df[\"Date\"] >= baslangic_tarih) & (df[\"Date\"] <= bitis_tarih)]\n",
    "    \n",
    "    # Toplam onaylanmış vaka sayısını hesapla\n",
    "    toplam_vaka = df_country[\"Confirmed\"].sum()  \n",
    "    \n",
    "    # Metin olarak toplam vaka sayısını göster\n",
    "    display(f\"Gesamtzahl der bestätigten Fälle: {toplam_vaka:,}\")\n",
    "\n",
    "    # Grafiği oluştur\n",
    "    plt.figure(figsize=(12, 6))\n",
    "    plt.plot(df_country[\"Date\"], df_country[\"Confirmed\"], marker='o', linestyle='-', label=country, color='b')\n",
    "\n",
    "    plt.xlabel(\"Datum\")\n",
    "    plt.ylabel(\"Bestätigte Fallzahl\")\n",
    "    plt.title(f\"{country} - COVID-19 Bestätigte Fallzahl ({baslangic_tarih.date()} - {bitis_tarih.date()})\")\n",
    "    \n",
    "    plt.xticks(rotation=45)\n",
    "    plt.legend()\n",
    "    plt.grid(True, linestyle=\"--\", alpha=0.5)\n",
    "    \n",
    "    plt.show()"
   ]
  },
  {
   "cell_type": "code",
   "execution_count": 35,
   "metadata": {},
   "outputs": [
    {
     "data": {
      "application/vnd.jupyter.widget-view+json": {
       "model_id": "a2a50a394bb74170998b55e8422ab33f",
       "version_major": 2,
       "version_minor": 0
      },
      "text/plain": [
       "interactive(children=(Dropdown(description='Country:', options=('Afghanistan', 'Albania', 'Algeria', 'Andorra'…"
      ]
     },
     "metadata": {},
     "output_type": "display_data"
    }
   ],
   "source": [
    "widgets.interactive(aktulisiere, country=ulke_secim, tarih_araligi=tarih_secim)"
   ]
  },
  {
   "cell_type": "code",
   "execution_count": 36,
   "metadata": {},
   "outputs": [],
   "source": [
    "import pandas as pd\n",
    "import matplotlib.pyplot as plt\n",
    "import ipywidgets as widgets\n",
    "from IPython.display import display"
   ]
  },
  {
   "cell_type": "code",
   "execution_count": 37,
   "metadata": {},
   "outputs": [],
   "source": [
    "df = pd.read_csv(\"../dataset/cleaned_dataset.csv\") "
   ]
  },
  {
   "cell_type": "code",
   "execution_count": 38,
   "metadata": {},
   "outputs": [],
   "source": [
    "# Kullanıcı için seçim menüleri\n",
    "country_dropdown = widgets.Dropdown(\n",
    "    options=df[\"Country\"].unique(),\n",
    "    description=\"Country:\",\n",
    "    continuous_update=False\n",
    ")\n",
    "\n",
    "date_dropdown = widgets.Dropdown(\n",
    "    options=df[\"Date\"].unique(),\n",
    "    description=\"Date:\",\n",
    "    continuous_update=False\n",
    ")\n",
    "def update_plot(country, date):\n",
    "    filtered_df = df[(df[\"Country\"] == country) & (df[\"Date\"] == date)]\n",
    "    \n",
    "    if filtered_df.empty:\n",
    "        print(\"Bu tarihte veri bulunmamaktadır.\")\n",
    "        return\n",
    "    \n",
    "    plt.figure(figsize=(10, 5))\n",
    "    plt.plot(df[df[\"Country\"] == country][\"Date\"], df[df[\"Country\"] == country][\"Confirmed\"], label=\"Confirmed\", marker='o')\n",
    "    plt.xlabel(\"Datum\")\n",
    "    plt.ylabel(\"Bestätigte Fallzahl\")\n",
    "    plt.title(f\"{country} COVID-19-Falltrend\")\n",
    "    plt.legend()\n",
    "    plt.xticks(rotation=45)\n",
    "    plt.grid(True)\n",
    "    toplam_vaka = df_country[\"Confirmed\"].sum()  \n",
    "    \n",
    "    # Metin olarak toplam vaka sayısını göster\n",
    "    display(f\"Gesamtzahl der bestätigten Fälle: {toplam_vaka:,}\")\n",
    "    plt.show()\n"
   ]
  },
  {
   "cell_type": "code",
   "execution_count": 39,
   "metadata": {},
   "outputs": [
    {
     "data": {
      "application/vnd.jupyter.widget-view+json": {
       "model_id": "c477788d31594e299c68d0fe0f39f9d9",
       "version_major": 2,
       "version_minor": 0
      },
      "text/plain": [
       "interactive(children=(Dropdown(description='Country:', options=('Afghanistan', 'Albania', 'Algeria', 'Andorra'…"
      ]
     },
     "metadata": {},
     "output_type": "display_data"
    },
    {
     "data": {
      "image/png": "[encoded data removed]",
      "text/plain": [
       "<Figure size 1000x500 with 1 Axes>"
      ]
     },
     "metadata": {},
     "output_type": "display_data"
    }
   ],
   "source": [
    "widgets.interactive(update_plot, country=country_dropdown, date=date_dropdown)"
   ]
  },
  {
   "cell_type": "code",
   "execution_count": null,
   "metadata": {},
   "outputs": [],
   "source": []
  },
  {
   "cell_type": "code",
   "execution_count": null,
   "metadata": {},
   "outputs": [],
   "source": [
    "countries = [\"Germany\", \"France\", \"Italy\"]  # Karşılaştırmak istediğin ülkeleri yaz\n",
    "df_filtreli = df[df[\"Country\"].isin(countries)]  # Seçili ülkeleri filtrele"
   ]
  },
  {
   "cell_type": "code",
   "execution_count": null,
   "metadata": {},
   "outputs": [],
   "source": [
    "df_filtreli[\"Date\"] = pd.to_datetime(df_filtreli[\"Date\"])"
   ]
  },
  {
   "cell_type": "code",
   "execution_count": null,
   "metadata": {},
   "outputs": [],
   "source": [
    "plt.figure(figsize=(12, 6))  \n",
    "\n",
    "for country in countries:\n",
    "    df_country = df_filtreli[df_filtreli[\"Country\"] == country]\n",
    "    plt.plot(df_country[\"Date\"], df_country[\"Confirmed\"], marker='o', label=country)\n",
    "\n",
    "plt.xlabel(\"Datum\")  \n",
    "plt.ylabel(\"Bestätigte Fallzahl\")  \n",
    "plt.title(\"Vergleich der bestätigten COVID-19-Fälle nach Ländern\")  \n",
    "plt.xticks(rotation=45)  # Tarihleri eğimli göster\n",
    "plt.legend()  \n",
    "plt.grid(True, linestyle='--', alpha=0.5)  \n",
    "\n",
    "plt.show()"
   ]
  }
 ],
 "metadata": {
  "kernelspec": {
   "display_name": "base",
   "language": "python",
   "name": "python3"
  },
  "language_info": {
   "codemirror_mode": {
    "name": "ipython",
    "version": 3
   },
   "file_extension": ".py",
   "mimetype": "text/x-python",
   "name": "python",
   "nbconvert_exporter": "python",
   "pygments_lexer": "ipython3",
   "version": "3.12.7"
  }
 },
 "nbformat": 4,
 "nbformat_minor": 2
}
