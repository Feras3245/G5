{
 "cells": [
  {
   "cell_type": "markdown",
   "metadata": {},
   "source": [
    "# Demo-4: Liniendiagramm Vergleich zwischen Ländern/Kontinenten"
   ]
  },
  {
   "cell_type": "code",
   "execution_count": null,
   "metadata": {},
   "outputs": [],
   "source": [
    "import matplotlib.pyplot as plt\n",
    "import pandas as pd\n",
    "import ipywidgets as widgets\n",
    "from IPython.display import display\n",
    "import matplotlib.dates as mdates"
   ]
  },
  {
   "cell_type": "code",
   "execution_count": null,
   "metadata": {},
   "outputs": [],
   "source": [
    "df = pd.read_csv(\"../dataset/cleaned_dataset.csv\")\n",
    "df[\"Date\"] = pd.to_datetime(df[\"Date\"])"
   ]
  },
  {
   "cell_type": "code",
   "execution_count": null,
   "metadata": {},
   "outputs": [],
   "source": [
    "ulkeler = df[\"Country\"].unique()  # Benzersiz ülkeleri listele\n",
    "ulke_secim = widgets.Dropdown(\n",
    "    options=ulkeler,\n",
    "    description=\"Wahl Land:\",\n",
    "    style={'description_width': 'initial'}\n",
    ")"
   ]
  },
  {
   "cell_type": "code",
   "execution_count": null,
   "metadata": {},
   "outputs": [],
   "source": [
    "def guncelle(ulke):\n",
    "    # Son 1 yılı filtrele\n",
    "    df[\"Date\"] = pd.to_datetime(df[\"Date\"], errors='coerce')  # Hatalı formatları NaT yapar\n",
    "    son_tarih = df[\"Date\"].max()  # Maksimum tarihi al\n",
    "    baslangic_tarih = son_tarih - pd.DateOffset(years=1)  # Son 1 yılın başlangıç tarihi\n",
    "\n",
    "    df_ulke = df[(df[\"Country\"] == ulke) & (df[\"Date\"] >= baslangic_tarih)]\n",
    "    \n",
    "    # Toplam onaylanmış vaka sayısını hesapla\n",
    "    toplam_vaka = df_ulke[\"Confirmed\"].sum()\n",
    "    \n",
    "    # Metin olarak toplam vaka sayısını göster\n",
    "    display(f\"Gesamtzahl der bestätigten Fälle: {toplam_vaka:,}\")\n",
    "\n",
    "    # Grafiği oluştur\n",
    "    plt.figure(figsize=(12, 6))\n",
    "    plt.plot(df_ulke[\"Date\"], df_ulke[\"Confirmed\"], marker='o', linestyle='-', label=ulke, color='b')\n",
    "\n",
    "    plt.xlabel(\"Datum\")\n",
    "    plt.ylabel(\"Bestätigte Fallzahl\")\n",
    "    plt.title(f\"{ulke} - COVID-19 Bestätigte Fälle (letzte 1 Jahr)\")\n",
    "    \n",
    "    # X eksenini her ay olacak şekilde ayarla\n",
    "    plt.gca().xaxis.set_major_locator(mdates.MonthLocator(interval=1))\n",
    "    plt.gca().xaxis.set_major_formatter(mdates.DateFormatter(\"%Y-%m\"))  # Yıl-Ay formatı\n",
    "    \n",
    "    plt.xticks(rotation=45)\n",
    "    plt.legend()\n",
    "    plt.grid(True, linestyle=\"--\", alpha=0.5)\n",
    "    \n",
    "    plt.show()"
   ]
  }
 ],
 "metadata": {
  "kernelspec": {
   "display_name": "base",
   "language": "python",
   "name": "python3"
  },
  "language_info": {
   "name": "python",
   "version": "3.12.7"
  }
 },
 "nbformat": 4,
 "nbformat_minor": 2
}
