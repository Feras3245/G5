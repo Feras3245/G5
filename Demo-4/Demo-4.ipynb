{
 "cells": [
  {
   "cell_type": "markdown",
   "metadata": {},
   "source": [
    "# Demo-4: Liniendiagramm Vergleich zwischen Ländern/Kontinenten"
   ]
  },
  {
   "cell_type": "code",
   "execution_count": 1,
   "metadata": {},
   "outputs": [],
   "source": [
    "import matplotlib.pyplot as plt\n",
    "import pandas as pd\n",
    "import ipywidgets as widgets\n",
    "from IPython.display import display\n",
    "import matplotlib.dates as mdates"
   ]
  },
  {
   "cell_type": "code",
   "execution_count": 2,
   "metadata": {},
   "outputs": [],
   "source": [
    "df = pd.read_csv(\"../dataset/cleaned_dataset.csv\")\n",
    "df[\"Date\"] = pd.to_datetime(df[\"Date\"])"
   ]
  },
  {
   "cell_type": "code",
   "execution_count": 3,
   "metadata": {},
   "outputs": [],
   "source": [
    "ulkeler = df[\"Country\"].unique()  # Benzersiz ülkeleri listele\n",
    "ulke_secim = widgets.Dropdown(\n",
    "    options=ulkeler,\n",
    "    description=\"Wahl Land:\",\n",
    "    style={'description_width': 'initial'}\n",
    ")"
   ]
  },
  {
   "cell_type": "code",
   "execution_count": null,
   "metadata": {},
   "outputs": [],
   "source": [
    "def guncelle(ulke):\n",
    "    # Son 1 yılı filtrele\n",
    "    df[\"Date\"] = pd.to_datetime(df[\"Date\"], errors='coerce')  # Hatalı formatları NaT yapar\n",
    "    son_tarih = df[\"Date\"].max()  # Maksimum tarihi al\n",
    "    baslangic_tarih = son_tarih - pd.DateOffset(years=1)  # Son 1 yılın başlangıç tarihi\n",
    "\n",
    "    df_ulke = df[(df[\"Country\"] == ulke) & (df[\"Date\"] >= baslangic_tarih)]\n",
    "    \n",
    "    # Toplam onaylanmış vaka sayısını hesapla\n",
    "    toplam_vaka = df_ulke[\"Confirmed\"].sum()\n",
    "    \n",
    "    # Metin olarak toplam vaka sayısını göster\n",
    "    display(f\"Gesamtzahl der bestätigten Fälle: {toplam_vaka:,}\")\n",
    "\n",
    "    # Grafiği oluştur\n",
    "    plt.figure(figsize=(12, 6))\n",
    "    plt.plot(df_ulke[\"Date\"], df_ulke[\"Confirmed\"], marker='o', linestyle='-', label=ulke, color='b')\n",
    "\n",
    "    plt.xlabel(\"Datum\")\n",
    "    plt.ylabel(\"Bestätigte Fallzahl\")\n",
    "    plt.title(f\"{ulke} - COVID-19 Bestätigte Fälle (in letztem Jahr)\")\n",
    "    \n",
    "    # X eksenini her ay olacak şekilde ayarla\n",
    "    plt.gca().xaxis.set_major_locator(mdates.MonthLocator(interval=1))\n",
    "    plt.gca().xaxis.set_major_formatter(mdates.DateFormatter(\"%Y-%m\"))  # Yıl-Ay formatı\n",
    "    \n",
    "    plt.xticks(rotation=45)\n",
    "    plt.legend()\n",
    "    plt.grid(True, linestyle=\"--\", alpha=0.5)\n",
    "    \n",
    "    plt.show()"
   ]
  },
  {
   "cell_type": "code",
   "execution_count": 5,
   "metadata": {},
   "outputs": [
    {
     "data": {
      "application/vnd.jupyter.widget-view+json": {
       "model_id": "d021f469babc4b1785e95ba1332773e1",
       "version_major": 2,
       "version_minor": 0
      },
      "text/plain": [
       "interactive(children=(Dropdown(description='Wahl Land:', options=('Afghanistan', 'Albania', 'Algeria', 'Andorr…"
      ]
     },
     "metadata": {},
     "output_type": "display_data"
    }
   ],
   "source": [
    "widgets.interactive(guncelle, ulke=ulke_secim)"
   ]
  }
 ],
 "metadata": {
  "kernelspec": {
   "display_name": "base",
   "language": "python",
   "name": "python3"
  },
  "language_info": {
   "codemirror_mode": {
    "name": "ipython",
    "version": 3
   },
   "file_extension": ".py",
   "mimetype": "text/x-python",
   "name": "python",
   "nbconvert_exporter": "python",
   "pygments_lexer": "ipython3",
   "version": "3.12.7"
  }
 },
 "nbformat": 4,
 "nbformat_minor": 2
}
